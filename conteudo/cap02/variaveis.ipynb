{
 "cells": [
  {
   "cell_type": "markdown",
   "metadata": {
    "collapsed": true,
    "pycharm": {
     "name": "#%% md\n"
    }
   },
   "source": [
    "As variáveis em python seguem o padrão PEP 484 e PEP 8 do python, esses padrões indicam algumas normas que devem ser\n",
    "seguidas e são vistas como boas práticas de programação.\n",
    "\n",
    "Segue algumas boas práticas\n",
    "* Não iniciar com numeros\n",
    "* descrever algum tipo de cenário ou objeto de negócio, nomes como a e b podem não indicar nada.\n",
    "* para nomes compostos separar as palavras com _\n",
    "\n",
    "Vejamos alguns exemplos de nomenclatura de variáveis."
   ]
  },
  {
   "cell_type": "code",
   "execution_count": null,
   "outputs": [],
   "source": [
    "a = 10;\n",
    "print(f'Essa é a sua variável {a}')"
   ],
   "metadata": {
    "collapsed": false,
    "pycharm": {
     "name": "#%%\n"
    }
   }
  },
  {
   "cell_type": "markdown",
   "source": [
    "No caso a variável definida como a não possui um contexto de negócio, foi somente um nome indicado que recebeu no caso\n",
    "inteiro, esse valor atribuído pode indicar qualquer coisa, uma data, uma hora, uma idade;\n",
    "\n",
    "Vejamos agora um outro exemplo de definição com contexto:\n"
   ],
   "metadata": {
    "collapsed": false
   }
  },
  {
   "cell_type": "code",
   "execution_count": null,
   "outputs": [],
   "source": [
    "idade = 10;\n",
    "print(f'Essa é a sua variável {idade}')\n"
   ],
   "metadata": {
    "collapsed": false,
    "pycharm": {
     "name": "#%%\n"
    }
   }
  },
  {
   "cell_type": "markdown",
   "source": [
    "No contexto acima fica claro o que a variável vai receber e qual o contexto dela dentro do nosso programa, atribuir\n",
    "nomes que deem sentido ao negócio é importante para facilitar a leitura do código e manutenções futuras.\n",
    "\n",
    "Vejamos Agora um exemplo de variável com nome composto.\n"
   ],
   "metadata": {
    "collapsed": false,
    "pycharm": {
     "name": "#%% md\n"
    }
   }
  },
  {
   "cell_type": "code",
   "execution_count": null,
   "outputs": [],
   "source": [
    "nome_completo = 'Luiz Fernando'"
   ],
   "metadata": {
    "collapsed": false,
    "pycharm": {
     "name": "#%%\n"
    }
   }
  }
 ],
 "metadata": {
  "kernelspec": {
   "display_name": "Python 3",
   "language": "python",
   "name": "python3"
  },
  "language_info": {
   "codemirror_mode": {
    "name": "ipython",
    "version": 2
   },
   "file_extension": ".py",
   "mimetype": "text/x-python",
   "name": "python",
   "nbconvert_exporter": "python",
   "pygments_lexer": "ipython2",
   "version": "2.7.6"
  }
 },
 "nbformat": 4,
 "nbformat_minor": 0
}