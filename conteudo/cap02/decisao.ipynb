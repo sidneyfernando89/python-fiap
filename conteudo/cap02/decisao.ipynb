{
 "cells": [
  {
   "cell_type": "markdown",
   "metadata": {
    "collapsed": true,
    "pycharm": {
     "name": "#%% md\n"
    }
   },
   "source": [
    "As decições são feitas com base em transações booleanas (verdadeiro ou falso) e podem ser feitas através dos comando *if*\n",
    "e *else*.\n",
    "\n",
    "Esses comando podem ser descritos em português como *se* e *senão*.\n",
    "Caso o valor atenda a expressão dentro do comando *if* o trecho será apresentado/executado, caso contrário será executado\n",
    "o trecho contido no comando *else*\n",
    "\n",
    "Vejamos algumas exemplos de decisão"
   ]
  },
  {
   "cell_type": "code",
   "execution_count": 8,
   "outputs": [
    {
     "name": "stdout",
     "output_type": "stream",
     "text": [
      "Esse individuo é casado.\n"
     ]
    }
   ],
   "source": [
    "estado_civil = 'casado'.upper()\n",
    "\n",
    "if estado_civil == 'CASADO':\n",
    "    print(f'Esse individuo é casado.')\n",
    "else:\n",
    "    print(f'Esse individuo não é casado')"
   ],
   "metadata": {
    "collapsed": false,
    "pycharm": {
     "name": "#%%\n"
    }
   }
  },
  {
   "cell_type": "markdown",
   "source": [
    "No exemplo  podemos ver que a comparação entre o *estado_civil* e o termo *casado* foi verdadeira resultado na impressão\n",
    "da frase  *\"Esse individuo é casado.\"*\n",
    "\n",
    "Podemos testar se o resultado é booleano através de uma simples impressão:"
   ],
   "metadata": {
    "collapsed": false,
    "pycharm": {
     "name": "#%% md\n"
    }
   }
  },
  {
   "cell_type": "code",
   "execution_count": 2,
   "outputs": [
    {
     "name": "stdout",
     "output_type": "stream",
     "text": [
      "True\n"
     ]
    }
   ],
   "source": [
    "print(estado_civil == 'CASADO')"
   ],
   "metadata": {
    "collapsed": false,
    "pycharm": {
     "name": "#%%\n"
    }
   }
  },
  {
   "cell_type": "markdown",
   "source": [
    "Ao executar o trecho acima podemos notar que o retorno foi *True*, sendo assim a expressão atende as condições de uso da\n",
    "condicional *if e else*.\n",
    "\n",
    "Existe ainda uma parte de multiplas decisões, que pode ser demonstrada a seguir e são estruturadas usando o comando\n",
    "*elif*"
   ],
   "metadata": {
    "collapsed": false,
    "pycharm": {
     "name": "#%% md\n"
    }
   }
  },
  {
   "cell_type": "code",
   "execution_count": 7,
   "outputs": [
    {
     "name": "stdout",
     "output_type": "stream",
     "text": [
      "Valor inválido\n"
     ]
    }
   ],
   "source": [
    "estado_civil = int(input('Informe o valor conforme o estado civil:\\n'\n",
    "                         '1 = Casado\\n'\n",
    "                         '2 = Solteiro\\n'\n",
    "                         '3 = Divorciado\\n'\n",
    "                         '4 = Viuvo'))\n",
    "if estado_civil == 1:\n",
    "    print(f'Este indicado é casado')\n",
    "elif estado_civil == 2:\n",
    "        print(f'Este indicado é solteiro')\n",
    "elif estado_civil == 3:\n",
    "        print(f'Este individuo é Divorciado')\n",
    "elif estado_civil == 4:\n",
    "        print(f'Este individuo é Viuvo')\n",
    "else:\n",
    "    print(f'Valor inválido')"
   ],
   "metadata": {
    "collapsed": false,
    "pycharm": {
     "name": "#%%\n"
    }
   }
  }
 ],
 "metadata": {
  "kernelspec": {
   "display_name": "Python 3",
   "language": "python",
   "name": "python3"
  },
  "language_info": {
   "codemirror_mode": {
    "name": "ipython",
    "version": 2
   },
   "file_extension": ".py",
   "mimetype": "text/x-python",
   "name": "python",
   "nbconvert_exporter": "python",
   "pygments_lexer": "ipython2",
   "version": "2.7.6"
  }
 },
 "nbformat": 4,
 "nbformat_minor": 0
}