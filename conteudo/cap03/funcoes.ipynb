{
 "cells": [
  {
   "cell_type": "markdown",
   "metadata": {
    "collapsed": true,
    "pycharm": {
     "name": "#%% md\n"
    }
   },
   "source": [
    "# Funções\n",
    "Funções assim como em outras linguagens auxiliam na reutilização e leitura do código e manuteção.\n",
    "\n",
    "Funções são declaradas pelo termo *def* e seguem uma estrutura similar a apresentada abaixo:\n",
    "\n",
    "```\n",
    "def <nome identificador da função> (parametros da função):\n",
    "    <codigo da função>\n",
    "    return <dados de retorno>\n",
    "\n",
    "```\n",
    "\n",
    "## Diferença entre Metodo e Função\n",
    "Por convenção metodos não retornam valor, eles executam o bloco de código mas sem retornar nenhum dado, já as funções\n",
    "possuem um retorno.\n",
    "\n",
    "Vejos alguns exemplos de implementações de função"
   ]
  },
  {
   "cell_type": "code",
   "execution_count": 3,
   "outputs": [
    {
     "name": "stdout",
     "output_type": "stream",
     "text": [
      "Informe os dados a ser incluídos na lista\n",
      "10\n",
      "20\n",
      "30\n"
     ]
    }
   ],
   "source": [
    "def entrarComDados(lista):\n",
    "    resposta = 1\n",
    "    while resposta != 0:\n",
    "        dado = input('Informe o dado: ')\n",
    "        lista.append(dado)\n",
    "        resposta = int(input('Deseja continuar? Informe 0 para parar: '))\n",
    "\n",
    "\n",
    "def exibirLista(lista):\n",
    "    for dado in range(len(lista)):\n",
    "        print(f'{lista[dado]}')\n",
    "\n",
    "lista = []\n",
    "print(f'Informe os dados a ser incluídos na lista')\n",
    "entrarComDados(lista)\n",
    "exibirLista(lista)"
   ],
   "metadata": {
    "collapsed": false,
    "pycharm": {
     "name": "#%%\n"
    }
   }
  },
  {
   "cell_type": "code",
   "execution_count": 2,
   "outputs": [
    {
     "name": "stdout",
     "output_type": "stream",
     "text": [
      "7278.46\n"
     ]
    }
   ],
   "source": [
    "def somarLista(lista):\n",
    "        soma = sum(lista)\n",
    "        return soma\n",
    "\n",
    "minha_lista = [405.00, 937.36, 750.00, 142.40]\n",
    "\n",
    "print(somarLista(minha_lista))"
   ],
   "metadata": {
    "collapsed": false,
    "pycharm": {
     "name": "#%%\n"
    }
   }
  }
 ],
 "metadata": {
  "kernelspec": {
   "name": "pycharm-b48a89ed",
   "language": "python",
   "display_name": "PyCharm (pythonCo3r)"
  },
  "language_info": {
   "codemirror_mode": {
    "name": "ipython",
    "version": 2
   },
   "file_extension": ".py",
   "mimetype": "text/x-python",
   "name": "python",
   "nbconvert_exporter": "python",
   "pygments_lexer": "ipython2",
   "version": "2.7.6"
  }
 },
 "nbformat": 4,
 "nbformat_minor": 0
}