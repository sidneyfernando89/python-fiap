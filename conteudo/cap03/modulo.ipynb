{
 "cells": [
  {
   "cell_type": "markdown",
   "metadata": {
    "collapsed": true,
    "pycharm": {
     "name": "#%% md\n"
    }
   },
   "source": [
    "Em python os pacotes ou módulos são arquivos contendo definições e instruções Python.\n",
    "Essas informações ajudam na manuteção dos pogramas pois permitem a separação do código em arquivo, pacotes.\n",
    "\n",
    "Essa seraração pode ser feita através da importação dos objetos criados. Sendo assim é possível objeter acesso a funções\n",
    "através dessa importação.\n",
    "\n",
    "Vejamos alguns exemplos:\n",
    "\n",
    "Vamos importar o pacote funcoes_lista.py"
   ]
  },
  {
   "cell_type": "code",
   "execution_count": 1,
   "outputs": [
    {
     "name": "stdout",
     "output_type": "stream",
     "text": [
      "A lista está vazia\n",
      "A lista está vazia\n",
      "A lista está vazia\n",
      "A lista está vazia\n",
      "Item incluído com sucesso\n",
      "Item incluído com sucesso\n",
      "Item incluído com sucesso\n",
      "Os listens da lista são:\n",
      "10\n",
      "20\n",
      "30\n"
     ]
    }
   ],
   "source": [
    "from conteudo.cap03.funcoes_lista import *\n",
    "\n",
    "menuAcoes()"
   ],
   "metadata": {
    "collapsed": false,
    "pycharm": {
     "name": "#%%\n"
    }
   }
  }
 ],
 "metadata": {
  "kernelspec": {
   "name": "pycharm-b48a89ed",
   "language": "python",
   "display_name": "PyCharm (pythonCo3r)"
  },
  "language_info": {
   "codemirror_mode": {
    "name": "ipython",
    "version": 2
   },
   "file_extension": ".py",
   "mimetype": "text/x-python",
   "name": "python",
   "nbconvert_exporter": "python",
   "pygments_lexer": "ipython2",
   "version": "2.7.6"
  }
 },
 "nbformat": 4,
 "nbformat_minor": 0
}