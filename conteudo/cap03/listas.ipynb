{
 "cells": [
  {
   "cell_type": "markdown",
   "source": [
    "Listas são estruturas indexas que podem ser iniciadas vazias ou com dados. Listas podem ser criadas utilizando []\n",
    "\n",
    "Vejamos alguns exemplos\n",
    "\n",
    "A seguir será criada uma lita vazia e uma com elementos"
   ],
   "metadata": {
    "collapsed": false
   }
  },
  {
   "cell_type": "code",
   "execution_count": 3,
   "outputs": [
    {
     "name": "stdout",
     "output_type": "stream",
     "text": [
      "Essa é a lista: []\n",
      "Essa é a lista: [1, 2, 34, 55, 11, 99, 110, 0, 11, 2, 1]\n"
     ]
    }
   ],
   "source": [
    "lista_vazia = []\n",
    "print(f'Essa é a lista: {lista_vazia}')\n",
    "\n",
    "lista_com_elementos = [1, 2, 34, 55, 11, 99, 110, 0, 11, 2, 1]\n",
    "print(f'Essa é a lista: {lista_com_elementos}')"
   ],
   "metadata": {
    "collapsed": false,
    "pycharm": {
     "name": "#%%\n"
    }
   }
  },
  {
   "cell_type": "markdown",
   "source": [
    "A seguir vamos demonstrar como valores podem ser incluíudos em uma lista através da função *append*"
   ],
   "metadata": {
    "collapsed": false,
    "pycharm": {
     "name": "#%% md\n"
    }
   }
  },
  {
   "cell_type": "code",
   "execution_count": 4,
   "outputs": [],
   "source": [
    "minha_lista = []\n",
    "resposta = 0;\n",
    "\n",
    "while resposta != 1:\n",
    "    item = str(input('Informe o dado a ser adicionado: '))\n",
    "    minha_lista.append(item)\n",
    "    resposta = int(input('''Deseja continuar?\n",
    "                        Digite :\n",
    "                            1 para Não: '''))\n",
    "print(f'Essa é a sua lista {minha_lista}')\n"
   ],
   "metadata": {
    "collapsed": false,
    "pycharm": {
     "name": "#%%\n"
    }
   }
  },
  {
   "cell_type": "markdown",
   "source": [
    "tamanho de uma lista com len\n",
    "indices de uma lista\n",
    "append\n"
   ],
   "metadata": {
    "collapsed": false,
    "pycharm": {
     "name": "#%% md\n"
    }
   }
  }
 ],
 "metadata": {
  "kernelspec": {
   "display_name": "Python 3",
   "language": "python",
   "name": "python3"
  },
  "language_info": {
   "codemirror_mode": {
    "name": "ipython",
    "version": 2
   },
   "file_extension": ".py",
   "mimetype": "text/x-python",
   "name": "python",
   "nbconvert_exporter": "python",
   "pygments_lexer": "ipython2",
   "version": "2.7.6"
  }
 },
 "nbformat": 4,
 "nbformat_minor": 0
}