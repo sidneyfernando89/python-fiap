{
 "cells": [
  {
   "cell_type": "markdown",
   "source": [
    "Listas são estruturas indexas que podem ser iniciadas vazias ou com dados. Listas podem ser criadas utilizando [] ou\n",
    "list()\n",
    "\n",
    "Vejamos alguns exemplos\n",
    "\n",
    "A seguir será criada uma lita vazia e uma com elementos"
   ],
   "metadata": {
    "collapsed": false
   }
  },
  {
   "cell_type": "code",
   "execution_count": 13,
   "outputs": [
    {
     "name": "stdout",
     "output_type": "stream",
     "text": [
      "Essa é a lista: []\n",
      "Essa é a lista: [1, 2, 34, 55, 11, 99, 110, 0, 11, 2, 1]\n"
     ]
    }
   ],
   "source": [
    "lista_vazia = []\n",
    "print(f'Essa é a lista: {lista_vazia}')\n",
    "\n",
    "lista_com_elementos = [1, 2, 34, 55, 11, 99, 110, 0, 11, 2, 1]\n",
    "print(f'Essa é a lista: {lista_com_elementos}')\n",
    "\n",
    "lista_com_list = list((1,2,3,45))"
   ],
   "metadata": {
    "collapsed": false,
    "pycharm": {
     "name": "#%%\n"
    }
   }
  },
  {
   "cell_type": "markdown",
   "source": [
    "Como foi informado as listas são estruturas indexadas, isso quer dizer que cada elemento da lista possui um indice. É\n",
    "possível acessar o elemento da lista através do seu indice. Mas como podemos identificar quantos elementos existem dentro\n",
    "de uma lista? Para isso vamos usar a função *len*, essa função retorna a quantidade de itens da lista."
   ],
   "metadata": {
    "collapsed": false,
    "pycharm": {
     "name": "#%% md\n"
    }
   }
  },
  {
   "cell_type": "code",
   "execution_count": 5,
   "outputs": [
    {
     "name": "stdout",
     "output_type": "stream",
     "text": [
      "O tamanho da lista é: 7\n"
     ]
    }
   ],
   "source": [
    "minha_lista=[]\n",
    "if 'minha_lista' in locals():\n",
    "    print(f'O tamanho da lista é: {len(minha_lista)}')\n",
    "else:\n",
    "    print(f'A lista não foi criada.')\n"
   ],
   "metadata": {
    "collapsed": false,
    "pycharm": {
     "name": "#%%\n"
    }
   }
  },
  {
   "cell_type": "markdown",
   "source": [
    "Como foi dito uma lista possui indices, esse indice indica qual a posição do objeto dentro da lista. Listas começam não\n",
    "indice 0 e vão sendo acrescidas em 1 ate atingir o tamanho. Então uma lista com 6 itens vai do indice 0 a 5.\n",
    "\n",
    "Vejamos um exemplo"
   ],
   "metadata": {
    "collapsed": false,
    "pycharm": {
     "name": "#%% md\n"
    }
   }
  },
  {
   "cell_type": "code",
   "execution_count": 12,
   "outputs": [
    {
     "name": "stdout",
     "output_type": "stream",
     "text": [
      "Esse é o indice 0 essa é o valor 1 \n",
      "Esse é o indice 1 essa é o valor 2 \n",
      "Esse é o indice 2 essa é o valor 3 \n",
      "Esse é o indice 3 essa é o valor 4 \n",
      "Esse é o indice 4 essa é o valor 5 \n",
      "Esse é o indice 5 essa é o valor 6 \n"
     ]
    }
   ],
   "source": [
    "minha_lista = [1, 2 ,3 ,4 ,5 ,6]\n",
    "\n",
    "for indice in minha_lista:\n",
    "    print(f'Esse é o indice {indice-1} essa é o valor {minha_lista[indice-1]} ')"
   ],
   "metadata": {
    "collapsed": false,
    "pycharm": {
     "name": "#%%\n"
    }
   }
  },
  {
   "cell_type": "markdown",
   "source": [
    "Também é possível acessar os itens de forma reversa, basta usar a informação do indice de forma negativa.\n",
    "\n",
    "Vejamos"
   ],
   "metadata": {
    "collapsed": false,
    "pycharm": {
     "name": "#%% md\n"
    }
   }
  },
  {
   "cell_type": "code",
   "execution_count": 14,
   "outputs": [
    {
     "name": "stdout",
     "output_type": "stream",
     "text": [
      "Esse é o indice -1 essa é o valor 6 \n",
      "Esse é o indice -2 essa é o valor 5 \n",
      "Esse é o indice -3 essa é o valor 4 \n",
      "Esse é o indice -4 essa é o valor 3 \n",
      "Esse é o indice -5 essa é o valor 2 \n",
      "Esse é o indice -6 essa é o valor 1 \n"
     ]
    }
   ],
   "source": [
    "for indice in minha_lista:\n",
    "    print(f'Esse é o indice {-indice} essa é o valor {minha_lista[-indice]} ')"
   ],
   "metadata": {
    "collapsed": false,
    "pycharm": {
     "name": "#%%\n"
    }
   }
  },
  {
   "cell_type": "markdown",
   "source": [
    "Caso queira acessar somente uma parte da lista também é possível usando slice"
   ],
   "metadata": {
    "collapsed": false,
    "pycharm": {
     "name": "#%% md\n"
    }
   }
  },
  {
   "cell_type": "code",
   "execution_count": 16,
   "outputs": [
    {
     "name": "stdout",
     "output_type": "stream",
     "text": [
      "Um peda]õ da lista [2, 3, 4]\n"
     ]
    }
   ],
   "source": [
    "print(f'Um pedaçõ da lista {minha_lista[1:4]}')"
   ],
   "metadata": {
    "collapsed": false,
    "pycharm": {
     "name": "#%%\n"
    }
   }
  },
  {
   "cell_type": "markdown",
   "source": [
    "Através do indice podemos alterar os valores de uma lista acessando diretamente o indice ou incluir o objeto no indice\n",
    "usando a função insert"
   ],
   "metadata": {
    "collapsed": false,
    "pycharm": {
     "name": "#%% md\n"
    }
   }
  },
  {
   "cell_type": "code",
   "execution_count": 23,
   "outputs": [
    {
     "name": "stdout",
     "output_type": "stream",
     "text": [
      "[1, 2, 3, 9999, 5, 6, 7, 8, 9, 10]\n",
      "[1, 2, 3, 9999, 5, 6, 7, 8, 9, 10]\n",
      "[1, 2, 3, 2222, 9999, 5, 6, 7, 8, 9, 10]\n"
     ]
    }
   ],
   "source": [
    "print(f'{minha_lista}')\n",
    "minha_lista[3] = 9999\n",
    "print(f'{minha_lista}')\n",
    "minha_lista.insert(3, 2222)\n",
    "print(f'{minha_lista}')"
   ],
   "metadata": {
    "collapsed": false,
    "pycharm": {
     "name": "#%%\n"
    }
   }
  },
  {
   "cell_type": "markdown",
   "source": [
    "Também podemos verificar se um item pertence a lista através do operador in"
   ],
   "metadata": {
    "collapsed": false,
    "pycharm": {
     "name": "#%% md\n"
    }
   }
  },
  {
   "cell_type": "code",
   "execution_count": 20,
   "outputs": [
    {
     "name": "stdout",
     "output_type": "stream",
     "text": [
      "Esse item existe na lista\n"
     ]
    }
   ],
   "source": [
    "minha_lista = [1, 2, 3, 4, 5, 6, 7, 8, 9, 10]\n",
    "resp = int(input('Informe o valor a verificar na lista: '))\n",
    "if resp in minha_lista:\n",
    "    print('Esse item existe na lista')\n",
    "else:\n",
    "    print('Esse item não existe.')"
   ],
   "metadata": {
    "collapsed": false,
    "pycharm": {
     "name": "#%%\n"
    }
   }
  },
  {
   "cell_type": "markdown",
   "source": [
    "A seguir vamos demonstrar como valores podem ser incluíudos em uma lista através da função *append*"
   ],
   "metadata": {
    "collapsed": false,
    "pycharm": {
     "name": "#%% md\n"
    }
   }
  },
  {
   "cell_type": "code",
   "execution_count": null,
   "outputs": [],
   "source": [
    "minha_lista = []\n",
    "resposta = 0;\n",
    "\n",
    "while resposta != 1:\n",
    "    item = str(input('Informe o dado a ser adicionado: '))\n",
    "    minha_lista.append(item)\n",
    "    resposta = int(input('''Deseja continuar?\n",
    "                        Digite :\n",
    "                            1 para Não: '''))\n",
    "print(f'Essa é a sua lista {minha_lista}')"
   ],
   "metadata": {
    "collapsed": false,
    "pycharm": {
     "name": "#%%\n"
    }
   }
  },
  {
   "cell_type": "markdown",
   "source": [
    "Para remover itens temos as funções *remove()* e *pop()*"
   ],
   "metadata": {
    "collapsed": false,
    "pycharm": {
     "name": "#%% md\n"
    }
   }
  },
  {
   "cell_type": "code",
   "execution_count": 26,
   "outputs": [
    {
     "name": "stdout",
     "output_type": "stream",
     "text": [
      "essa e a lista [1, 2, 3, 4, 5, 6]\n",
      "essa e a lista [1, 2, 4, 5, 6]\n",
      "essa e a lista [1, 2, 4, 5]\n"
     ]
    }
   ],
   "source": [
    "minha_lista = [1, 2, 3 , 4 , 5 , 6]\n",
    "print(f'essa e a lista {minha_lista}')\n",
    "minha_lista.remove(3)\n",
    "print(f'essa e a lista {minha_lista}')\n",
    "minha_lista.pop(4)\n",
    "print(f'essa e a lista {minha_lista}')\n"
   ],
   "metadata": {
    "collapsed": false,
    "pycharm": {
     "name": "#%%\n"
    }
   }
  },
  {
   "cell_type": "markdown",
   "source": [
    "Também podemos deletar (del) uma lista ou limpar seu conteudo (clear)"
   ],
   "metadata": {
    "collapsed": false
   }
  },
  {
   "cell_type": "code",
   "execution_count": 29,
   "outputs": [
    {
     "name": "stdout",
     "output_type": "stream",
     "text": [
      "A lista não existe\n",
      "A lista existe\n"
     ]
    }
   ],
   "source": [
    "minha_lista = [10, 20, 30, 40, 50, 60, 70, 80]\n",
    "del minha_lista\n",
    "if 'minha_lista' in locals():\n",
    "    print(f'A lista existe')\n",
    "else:\n",
    "    print('A lista não existe')\n",
    "\n",
    "minha_lista = [10, 20, 30, 40, 50, 60, 70, 80]\n",
    "minha_lista.clear\n",
    "if 'minha_lista' in locals():\n",
    "    print(f'A lista existe')\n",
    "else:\n",
    "    print('A lista não existe')\n"
   ],
   "metadata": {
    "collapsed": false,
    "pycharm": {
     "name": "#%%\n"
    }
   }
  },
  {
   "cell_type": "markdown",
   "source": [
    "Existem diversos outros metodos que podem ser usados em lista, veja a seguir uma listagem\n",
    "\n",
    "|Código   | Descrição  |\n",
    "|---|---|\n",
    "|append()   | Adiciona um elemento a lista  |\n",
    "|clear()   |  Limpa o conteudo de uma lista |\n",
    "|copy()   |   Copia o conteudo de uma lista para outra|\n",
    "|count()   |  Conta a quantidade de insidencias de um item na lista |\n",
    "|index()   |  retorna o indice do primeiro elemento da lista |\n",
    "|insert()   | Adiciona um elemento em uma posição especifica  |\n",
    "|pop()   |  Remove um item de uma posição especifica |\n",
    "|remove()   |  Remove um item com base em um valor |\n",
    "|reverse()   |  Mostra a lista em ordem reversa |\n",
    "|sort()   |  Mostra a lista ordenada |"
   ],
   "metadata": {
    "collapsed": false,
    "pycharm": {
     "name": "#%% md\n"
    }
   }
  }
 ],
 "metadata": {
  "kernelspec": {
   "display_name": "Python 3",
   "language": "python",
   "name": "python3"
  },
  "language_info": {
   "codemirror_mode": {
    "name": "ipython",
    "version": 2
   },
   "file_extension": ".py",
   "mimetype": "text/x-python",
   "name": "python",
   "nbconvert_exporter": "python",
   "pygments_lexer": "ipython2",
   "version": "2.7.6"
  }
 },
 "nbformat": 4,
 "nbformat_minor": 0
}