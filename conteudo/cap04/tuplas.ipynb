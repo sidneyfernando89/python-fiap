{
 "cells": [
  {
   "cell_type": "markdown",
   "source": [
    "Tupla é uma estrutura do tipo lista mas seus dados são imutáveis. Os elementos da tupla também podem possuir tipos\n",
    "distintos.\n",
    "Uma tupla é definida pelo uso de ().\n",
    "\n",
    "Vejamos exemplos de declaração\n",
    "\n",
    "#tupla declarada sem o uso de parentesis\n",
    "t1 = 1, 2, 3\n",
    "#tupla declarada com o uso de parentesis\n",
    "t2 = (1, 2, 3)\n",
    "#tupla com um único elemento\n",
    "t3 = 1,\n",
    "#tupla vazia\n",
    "t4 = ()"
   ],
   "metadata": {
    "collapsed": false,
    "pycharm": {
     "name": "#%% md\n"
    }
   }
  },
  {
   "cell_type": "code",
   "execution_count": 21,
   "outputs": [
    {
     "name": "stdout",
     "output_type": "stream",
     "text": [
      "1\n",
      "1\n",
      "True\n",
      "3\n"
     ]
    }
   ],
   "source": [
    "minha_tupla = (1, 2, 3)\n",
    "\n",
    "print(f'{minha_tupla.index(2)}')\n",
    "print(f'{minha_tupla.count(2)}')\n",
    "print(f'{ 2 in minha_tupla}')\n",
    "print(f'{ len(minha_tupla)}')"
   ],
   "metadata": {
    "collapsed": false,
    "pycharm": {
     "name": "#%%\n"
    }
   }
  }
 ],
 "metadata": {
  "kernelspec": {
   "name": "pycharm-b48a89ed",
   "language": "python",
   "display_name": "PyCharm (pythonCo3r)"
  },
  "language_info": {
   "codemirror_mode": {
    "name": "ipython",
    "version": 2
   },
   "file_extension": ".py",
   "mimetype": "text/x-python",
   "name": "python",
   "nbconvert_exporter": "python",
   "pygments_lexer": "ipython2",
   "version": "2.7.6"
  }
 },
 "nbformat": 4,
 "nbformat_minor": 0
}