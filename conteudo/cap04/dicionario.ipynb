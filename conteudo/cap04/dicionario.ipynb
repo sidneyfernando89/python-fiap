{
 "cells": [
  {
   "cell_type": "markdown",
   "metadata": {
    "collapsed": true,
    "pycharm": {
     "name": "#%% md\n"
    }
   },
   "source": [
    "Dicionários são coleções desordenadas de dados. São formados por uma chave e um valor. Sua atribuição é feita através de\n",
    "{}.\n",
    "Vejamos alguns exemplos de atribuição.\n",
    "\n",
    "Primeiro vamos criar um dicionário vazio, chave e faremos algumas atribuições"
   ]
  },
  {
   "cell_type": "code",
   "execution_count": null,
   "outputs": [],
   "source": [
    "dicionario01 = {}\n",
    "print (f'Esse é o dicionário: {dicionario01}')\n",
    "\n",
    "dicionario01['nome'] = 'Luiz'\n",
    "dicionario01['parentesco'] = 'Filho'\n",
    "dicionario01['idade'] = 5\n",
    "print (f'Esse é o dicionário: {dicionario01}')"
   ],
   "metadata": {
    "collapsed": false,
    "pycharm": {
     "name": "#%%\n"
    }
   }
  },
  {
   "cell_type": "markdown",
   "source": [
    "Agora vamos criar outro dicionário e realizar atribuições utilizando o conceito de chave e valor."
   ],
   "metadata": {
    "collapsed": false
   }
  },
  {
   "cell_type": "code",
   "execution_count": null,
   "outputs": [],
   "source": [
    "dicionario02 = {'nome': 'Luiz', 'parentesco':'Filho', 'idade': 5}\n",
    "print (f'Esse é o dicionário: {dicionario02}')"
   ],
   "metadata": {
    "collapsed": false,
    "pycharm": {
     "name": "#%%\n"
    }
   }
  },
  {
   "cell_type": "markdown",
   "source": [
    "Existem algumas funções importantes para dicionários, são elas\n",
    "\n",
    "|Função   | Descrição  |\n",
    "|---|---|\n",
    "|Len|Retorna o tamanho do dicionário|\n",
    "|keys|Retorna uma vista das chaves no dicionário|\n",
    "|values|Retorna uma vista dos valores no dicionário|\n",
    "|items|Retorna uma vista dos pares chave-valor no dicionário|\n",
    "|get|Retorna o valor associado com a chave; ou None|\n",
    "\n",
    "Vejamos as implementações dessa funções"
   ],
   "metadata": {
    "collapsed": false
   }
  },
  {
   "cell_type": "code",
   "execution_count": null,
   "outputs": [],
   "source": [
    "print(f'Criar um dicionário')\n",
    "\n",
    "\n",
    "pessoas = {\n",
    "\n",
    "    1:{'nome': 'Luiz', 'parentesco': 'Filho', 'idade': 5},\n",
    "    2:{'nome': 'Miguel', 'parentesco': 'Filho', 'idade': 9},\n",
    "    3:{'nome': 'Laura', 'parentesco': 'Filho', 'idade': 27},\n",
    "}\n",
    "\n",
    "\n",
    "print(f'Mostrar o tamanho do Dicionário')\n",
    "print(f'O tamanho do dicionário é {len(pessoas)} \\n')\n",
    "\n",
    "print(f'O Conteudo do dicionário é:  ')\n",
    "for item in pessoas.items():\n",
    "    print(f'Nome: {item[1].get(\"nome\")}')\n",
    "    print(f'Parentesco: {item[1].get(\"parentesco\")}')\n",
    "    print(f'Idade: {item[1].get(\"idade\")} \\n')\n",
    "\n",
    "print(f'incluir items em um dicionario')\n",
    "proxima = len(pessoas)+1\n",
    "nome = str(input(\"Digite o nome: \"))\n",
    "parentesco = str(input(\"Digite o parentesco: \"))\n",
    "idade = int(input(\"Digite a idade: \"))\n",
    "pessoas[proxima] = {'nome': nome, 'parentesco': parentesco, 'idade': idade}"
   ],
   "metadata": {
    "collapsed": false,
    "pycharm": {
     "name": "#%%\n"
    }
   }
  }
 ],
 "metadata": {
  "kernelspec": {
   "display_name": "Python 3",
   "language": "python",
   "name": "python3"
  },
  "language_info": {
   "codemirror_mode": {
    "name": "ipython",
    "version": 2
   },
   "file_extension": ".py",
   "mimetype": "text/x-python",
   "name": "python",
   "nbconvert_exporter": "python",
   "pygments_lexer": "ipython2",
   "version": "2.7.6"
  }
 },
 "nbformat": 4,
 "nbformat_minor": 0
}