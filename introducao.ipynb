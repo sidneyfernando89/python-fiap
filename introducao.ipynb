{
 "cells": [
  {
   "cell_type": "markdown",
   "metadata": {
    "collapsed": true,
    "pycharm": {
     "name": "#%% md\n"
    }
   },
   "source": [
    "# Curso: PYTHON\n",
    "## Instituição: FIAP\n",
    "\n",
    "### Conteúdo\n",
    "\n",
    "#### Cap 1 - Introdução a Linguagem Python\n",
    "Arquivo: N/A\n",
    "\n",
    "#### Cap 2 - Variáveis, tomada de decisão e Laços de Repetição\n",
    "Arquivo(s): \n",
    "* conteudo/cap02/variaveis\n",
    "* conteudo/cap02/decisao\n",
    "* conteudo/cap02/lacos\n",
    "\n",
    "#### Cap 3 - Manipulação de Listas, Funções e Módulos\n",
    "Arquivo(s): \n",
    "* conteudo/cap03/listas\n",
    "* conteudo/cap03/funcoes\n",
    "* conteudo/cap03/modulo\n",
    "\n",
    "#### Cap 4 - Manipulação de Dicionário de dados e Tuplas\n",
    "Arquivo(s): \n",
    "* conteudo/cap04/dicinario\n",
    "* conteudo/cap04/tuplas\n",
    "\n",
    "\n",
    "#### Cap 5 - Manipulação de arquivos e JSON\n",
    "Arquivo(s): \n",
    "* conteudo/cap05/arquivos\n",
    "* conteudo/cap05/json\n",
    "\n",
    "#### Cap 6 - Bibliotecas Externas e Sistema Operacional\n",
    "Arquivo(s): \n",
    "* conteudo/cap06/externas\n",
    "* conteudo/cap06/so\n",
    "\n",
    "#### Cap 7 - Protocolos de Comunicação e Python\n",
    "Arquivo(s): \n",
    "* conteudo/cap07/protocolos\n",
    "\n",
    "#### Cap 8 - Python x IoT\n",
    "Arquivo(s): \n",
    "* conteudo/cap08/iot"
   ]
  }
 ],
 "metadata": {
  "kernelspec": {
   "display_name": "Python 3",
   "language": "python",
   "name": "python3"
  },
  "language_info": {
   "codemirror_mode": {
    "name": "ipython",
    "version": 2
   },
   "file_extension": ".py",
   "mimetype": "text/x-python",
   "name": "python",
   "nbconvert_exporter": "python",
   "pygments_lexer": "ipython2",
   "version": "2.7.6"
  }
 },
 "nbformat": 4,
 "nbformat_minor": 0
}